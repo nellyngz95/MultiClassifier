{
 "cells": [
  {
   "cell_type": "code",
   "execution_count": 1,
   "id": "3f9d738f",
   "metadata": {},
   "outputs": [],
   "source": [
    "import pandas as pd\n",
    "import numpy as np\n",
    "import essentia \n",
    "import essentia.standard as ess \n",
    "import seaborn as sns"
   ]
  },
  {
   "cell_type": "markdown",
   "id": "7d8c333c",
   "metadata": {},
   "source": [
    "# DATASETS"
   ]
  },
  {
   "cell_type": "code",
   "execution_count": 2,
   "id": "d9ac8297",
   "metadata": {},
   "outputs": [],
   "source": [
    "df=pd.read_csv(\"LabelWF.csv\")\n",
    "data=df.iloc[:,1:]\n",
    "datas= data.fillna(0)\n",
    "df2=pd.read_csv(\"LabelBE.csv\")\n",
    "data2=df2.iloc[:,1:]\n",
    "datas2= data2.fillna(0)\n"
   ]
  },
  {
   "cell_type": "code",
   "execution_count": 3,
   "id": "b41b2865",
   "metadata": {},
   "outputs": [],
   "source": [
    "merged_data = pd.merge(datas, datas2, how='outer',on=['Loudness', 'RMS', 'spectralflux', 'Centroid', 'HighFrequency', 'ZCR',\n",
    "       'Energy', 'PitchSalience', 'EffectiveDuration', 'Decrease', 'Intensity',\n",
    "       'c1', 'c2', 'c3', 'c4', 'c5', 'DynComplex', 'LDB', 'Frequencies',\n",
    "       'Amplitudes', 'Mean', 'Median', 'Variance', 'MaxToTotal', 'MinToTotal',\n",
    "       'TCToTotal', 'FlatnessSFX', 'InstantPower', 'logAttackTime',\n",
    "       'attackStart', 'attackStop', 'Spread', 'Skewness', 'Kurtosis', '0', '1',\n",
    "       '2', '3', '4', '5', '6', '7', '8', '9', '10', '11', '12', '13', '14',\n",
    "       '15', '16', '17', '18', '19', '20', '21', '22', '23', '24', '25', '26',\n",
    "       '27', '28', '29', '30', '31', '32', '33', '34', '35', '36', '37', '38',\n",
    "       '39', 'SpecComplex', 'RollOff', 'StrongPeak', 'Label'])\n"
   ]
  },
  {
   "cell_type": "code",
   "execution_count": 4,
   "id": "5afea083",
   "metadata": {},
   "outputs": [
    {
     "data": {
      "text/html": [
       "<div>\n",
       "<style scoped>\n",
       "    .dataframe tbody tr th:only-of-type {\n",
       "        vertical-align: middle;\n",
       "    }\n",
       "\n",
       "    .dataframe tbody tr th {\n",
       "        vertical-align: top;\n",
       "    }\n",
       "\n",
       "    .dataframe thead th {\n",
       "        text-align: right;\n",
       "    }\n",
       "</style>\n",
       "<table border=\"1\" class=\"dataframe\">\n",
       "  <thead>\n",
       "    <tr style=\"text-align: right;\">\n",
       "      <th></th>\n",
       "      <th>Loudness</th>\n",
       "      <th>RMS</th>\n",
       "      <th>spectralflux</th>\n",
       "      <th>Centroid</th>\n",
       "      <th>HighFrequency</th>\n",
       "      <th>ZCR</th>\n",
       "      <th>Energy</th>\n",
       "      <th>PitchSalience</th>\n",
       "      <th>EffectiveDuration</th>\n",
       "      <th>Decrease</th>\n",
       "      <th>...</th>\n",
       "      <th>34</th>\n",
       "      <th>35</th>\n",
       "      <th>36</th>\n",
       "      <th>37</th>\n",
       "      <th>38</th>\n",
       "      <th>39</th>\n",
       "      <th>SpecComplex</th>\n",
       "      <th>RollOff</th>\n",
       "      <th>StrongPeak</th>\n",
       "      <th>Label</th>\n",
       "    </tr>\n",
       "  </thead>\n",
       "  <tbody>\n",
       "    <tr>\n",
       "      <th>0</th>\n",
       "      <td>636.574341</td>\n",
       "      <td>0.263463</td>\n",
       "      <td>123.715660</td>\n",
       "      <td>0.523523</td>\n",
       "      <td>88311032.0</td>\n",
       "      <td>0.093061</td>\n",
       "      <td>15305.565430</td>\n",
       "      <td>0.250594</td>\n",
       "      <td>0.476440</td>\n",
       "      <td>-0.000896</td>\n",
       "      <td>...</td>\n",
       "      <td>0.037915</td>\n",
       "      <td>0.039987</td>\n",
       "      <td>0.035348</td>\n",
       "      <td>0.031390</td>\n",
       "      <td>0.036538</td>\n",
       "      <td>0.036202</td>\n",
       "      <td>100.0</td>\n",
       "      <td>1348.400024</td>\n",
       "      <td>3.452128e+06</td>\n",
       "      <td>4</td>\n",
       "    </tr>\n",
       "    <tr>\n",
       "      <th>1</th>\n",
       "      <td>390.424988</td>\n",
       "      <td>0.182927</td>\n",
       "      <td>85.898033</td>\n",
       "      <td>0.562918</td>\n",
       "      <td>45242984.0</td>\n",
       "      <td>0.133274</td>\n",
       "      <td>7378.472168</td>\n",
       "      <td>0.162448</td>\n",
       "      <td>0.206213</td>\n",
       "      <td>-0.001279</td>\n",
       "      <td>...</td>\n",
       "      <td>0.000000</td>\n",
       "      <td>0.000000</td>\n",
       "      <td>0.000000</td>\n",
       "      <td>0.000000</td>\n",
       "      <td>0.000000</td>\n",
       "      <td>0.000000</td>\n",
       "      <td>100.0</td>\n",
       "      <td>2968.399902</td>\n",
       "      <td>3.938371e+05</td>\n",
       "      <td>4</td>\n",
       "    </tr>\n",
       "    <tr>\n",
       "      <th>2</th>\n",
       "      <td>216.328857</td>\n",
       "      <td>0.117738</td>\n",
       "      <td>55.286957</td>\n",
       "      <td>0.317760</td>\n",
       "      <td>33935804.0</td>\n",
       "      <td>0.095687</td>\n",
       "      <td>3056.647705</td>\n",
       "      <td>0.103867</td>\n",
       "      <td>0.036281</td>\n",
       "      <td>0.000504</td>\n",
       "      <td>...</td>\n",
       "      <td>0.023598</td>\n",
       "      <td>0.028323</td>\n",
       "      <td>0.022820</td>\n",
       "      <td>0.022308</td>\n",
       "      <td>0.020367</td>\n",
       "      <td>0.018357</td>\n",
       "      <td>100.0</td>\n",
       "      <td>2438.600098</td>\n",
       "      <td>1.618121e+06</td>\n",
       "      <td>4</td>\n",
       "    </tr>\n",
       "    <tr>\n",
       "      <th>3</th>\n",
       "      <td>85.865311</td>\n",
       "      <td>0.059080</td>\n",
       "      <td>27.742624</td>\n",
       "      <td>0.500412</td>\n",
       "      <td>7063722.0</td>\n",
       "      <td>0.102576</td>\n",
       "      <td>769.653198</td>\n",
       "      <td>0.092782</td>\n",
       "      <td>0.006803</td>\n",
       "      <td>-0.000062</td>\n",
       "      <td>...</td>\n",
       "      <td>0.000000</td>\n",
       "      <td>0.000000</td>\n",
       "      <td>0.000000</td>\n",
       "      <td>0.000000</td>\n",
       "      <td>0.000000</td>\n",
       "      <td>0.000000</td>\n",
       "      <td>100.0</td>\n",
       "      <td>4149.000000</td>\n",
       "      <td>0.000000e+00</td>\n",
       "      <td>4</td>\n",
       "    </tr>\n",
       "    <tr>\n",
       "      <th>4</th>\n",
       "      <td>277.413788</td>\n",
       "      <td>0.141751</td>\n",
       "      <td>66.562531</td>\n",
       "      <td>0.385765</td>\n",
       "      <td>39559824.0</td>\n",
       "      <td>0.200644</td>\n",
       "      <td>4430.570801</td>\n",
       "      <td>0.087282</td>\n",
       "      <td>0.085057</td>\n",
       "      <td>0.000140</td>\n",
       "      <td>...</td>\n",
       "      <td>0.017491</td>\n",
       "      <td>0.019708</td>\n",
       "      <td>0.020650</td>\n",
       "      <td>0.019951</td>\n",
       "      <td>0.018299</td>\n",
       "      <td>0.018177</td>\n",
       "      <td>100.0</td>\n",
       "      <td>6688.600098</td>\n",
       "      <td>1.129759e+05</td>\n",
       "      <td>4</td>\n",
       "    </tr>\n",
       "    <tr>\n",
       "      <th>...</th>\n",
       "      <td>...</td>\n",
       "      <td>...</td>\n",
       "      <td>...</td>\n",
       "      <td>...</td>\n",
       "      <td>...</td>\n",
       "      <td>...</td>\n",
       "      <td>...</td>\n",
       "      <td>...</td>\n",
       "      <td>...</td>\n",
       "      <td>...</td>\n",
       "      <td>...</td>\n",
       "      <td>...</td>\n",
       "      <td>...</td>\n",
       "      <td>...</td>\n",
       "      <td>...</td>\n",
       "      <td>...</td>\n",
       "      <td>...</td>\n",
       "      <td>...</td>\n",
       "      <td>...</td>\n",
       "      <td>...</td>\n",
       "      <td>...</td>\n",
       "    </tr>\n",
       "    <tr>\n",
       "      <th>507</th>\n",
       "      <td>380.672516</td>\n",
       "      <td>0.179507</td>\n",
       "      <td>84.291672</td>\n",
       "      <td>0.937214</td>\n",
       "      <td>101693848.0</td>\n",
       "      <td>0.015515</td>\n",
       "      <td>7105.085938</td>\n",
       "      <td>0.074529</td>\n",
       "      <td>0.241020</td>\n",
       "      <td>0.000402</td>\n",
       "      <td>...</td>\n",
       "      <td>0.000000</td>\n",
       "      <td>0.000000</td>\n",
       "      <td>0.000000</td>\n",
       "      <td>0.000000</td>\n",
       "      <td>0.000000</td>\n",
       "      <td>0.000000</td>\n",
       "      <td>100.0</td>\n",
       "      <td>314.399994</td>\n",
       "      <td>1.658474e+06</td>\n",
       "      <td>5</td>\n",
       "    </tr>\n",
       "    <tr>\n",
       "      <th>508</th>\n",
       "      <td>327.649719</td>\n",
       "      <td>0.160497</td>\n",
       "      <td>75.365303</td>\n",
       "      <td>0.530154</td>\n",
       "      <td>69796408.0</td>\n",
       "      <td>0.078113</td>\n",
       "      <td>5679.929199</td>\n",
       "      <td>0.053028</td>\n",
       "      <td>0.244308</td>\n",
       "      <td>-0.000026</td>\n",
       "      <td>...</td>\n",
       "      <td>0.008420</td>\n",
       "      <td>0.006279</td>\n",
       "      <td>0.004611</td>\n",
       "      <td>0.003427</td>\n",
       "      <td>0.003191</td>\n",
       "      <td>0.002024</td>\n",
       "      <td>100.0</td>\n",
       "      <td>8270.400391</td>\n",
       "      <td>7.502732e+05</td>\n",
       "      <td>5</td>\n",
       "    </tr>\n",
       "    <tr>\n",
       "      <th>509</th>\n",
       "      <td>413.535400</td>\n",
       "      <td>0.190949</td>\n",
       "      <td>89.664673</td>\n",
       "      <td>1.399865</td>\n",
       "      <td>96477128.0</td>\n",
       "      <td>0.018395</td>\n",
       "      <td>8039.753906</td>\n",
       "      <td>0.089876</td>\n",
       "      <td>0.433424</td>\n",
       "      <td>0.000057</td>\n",
       "      <td>...</td>\n",
       "      <td>0.000000</td>\n",
       "      <td>0.000000</td>\n",
       "      <td>0.000000</td>\n",
       "      <td>0.000000</td>\n",
       "      <td>0.000000</td>\n",
       "      <td>0.000000</td>\n",
       "      <td>100.0</td>\n",
       "      <td>360.000000</td>\n",
       "      <td>3.837139e+05</td>\n",
       "      <td>5</td>\n",
       "    </tr>\n",
       "    <tr>\n",
       "      <th>510</th>\n",
       "      <td>403.449219</td>\n",
       "      <td>0.187462</td>\n",
       "      <td>88.027527</td>\n",
       "      <td>0.875160</td>\n",
       "      <td>105171264.0</td>\n",
       "      <td>0.252000</td>\n",
       "      <td>7748.845703</td>\n",
       "      <td>0.066099</td>\n",
       "      <td>0.410658</td>\n",
       "      <td>0.000188</td>\n",
       "      <td>...</td>\n",
       "      <td>0.071617</td>\n",
       "      <td>0.039488</td>\n",
       "      <td>0.020706</td>\n",
       "      <td>0.011390</td>\n",
       "      <td>0.004484</td>\n",
       "      <td>0.001453</td>\n",
       "      <td>100.0</td>\n",
       "      <td>9532.400391</td>\n",
       "      <td>1.642735e+06</td>\n",
       "      <td>5</td>\n",
       "    </tr>\n",
       "    <tr>\n",
       "      <th>511</th>\n",
       "      <td>407.950653</td>\n",
       "      <td>0.189021</td>\n",
       "      <td>88.759445</td>\n",
       "      <td>0.522880</td>\n",
       "      <td>98797888.0</td>\n",
       "      <td>0.015664</td>\n",
       "      <td>7878.239746</td>\n",
       "      <td>0.082736</td>\n",
       "      <td>0.512948</td>\n",
       "      <td>-0.000271</td>\n",
       "      <td>...</td>\n",
       "      <td>0.000000</td>\n",
       "      <td>0.000000</td>\n",
       "      <td>0.000000</td>\n",
       "      <td>0.000000</td>\n",
       "      <td>0.000000</td>\n",
       "      <td>0.000000</td>\n",
       "      <td>100.0</td>\n",
       "      <td>316.799988</td>\n",
       "      <td>4.474773e+06</td>\n",
       "      <td>5</td>\n",
       "    </tr>\n",
       "  </tbody>\n",
       "</table>\n",
       "<p>512 rows × 73 columns</p>\n",
       "</div>"
      ],
      "text/plain": [
       "       Loudness       RMS  spectralflux  Centroid  HighFrequency       ZCR  \\\n",
       "0    636.574341  0.263463    123.715660  0.523523     88311032.0  0.093061   \n",
       "1    390.424988  0.182927     85.898033  0.562918     45242984.0  0.133274   \n",
       "2    216.328857  0.117738     55.286957  0.317760     33935804.0  0.095687   \n",
       "3     85.865311  0.059080     27.742624  0.500412      7063722.0  0.102576   \n",
       "4    277.413788  0.141751     66.562531  0.385765     39559824.0  0.200644   \n",
       "..          ...       ...           ...       ...            ...       ...   \n",
       "507  380.672516  0.179507     84.291672  0.937214    101693848.0  0.015515   \n",
       "508  327.649719  0.160497     75.365303  0.530154     69796408.0  0.078113   \n",
       "509  413.535400  0.190949     89.664673  1.399865     96477128.0  0.018395   \n",
       "510  403.449219  0.187462     88.027527  0.875160    105171264.0  0.252000   \n",
       "511  407.950653  0.189021     88.759445  0.522880     98797888.0  0.015664   \n",
       "\n",
       "           Energy  PitchSalience  EffectiveDuration  Decrease  ...        34  \\\n",
       "0    15305.565430       0.250594           0.476440 -0.000896  ...  0.037915   \n",
       "1     7378.472168       0.162448           0.206213 -0.001279  ...  0.000000   \n",
       "2     3056.647705       0.103867           0.036281  0.000504  ...  0.023598   \n",
       "3      769.653198       0.092782           0.006803 -0.000062  ...  0.000000   \n",
       "4     4430.570801       0.087282           0.085057  0.000140  ...  0.017491   \n",
       "..            ...            ...                ...       ...  ...       ...   \n",
       "507   7105.085938       0.074529           0.241020  0.000402  ...  0.000000   \n",
       "508   5679.929199       0.053028           0.244308 -0.000026  ...  0.008420   \n",
       "509   8039.753906       0.089876           0.433424  0.000057  ...  0.000000   \n",
       "510   7748.845703       0.066099           0.410658  0.000188  ...  0.071617   \n",
       "511   7878.239746       0.082736           0.512948 -0.000271  ...  0.000000   \n",
       "\n",
       "           35        36        37        38        39  SpecComplex  \\\n",
       "0    0.039987  0.035348  0.031390  0.036538  0.036202        100.0   \n",
       "1    0.000000  0.000000  0.000000  0.000000  0.000000        100.0   \n",
       "2    0.028323  0.022820  0.022308  0.020367  0.018357        100.0   \n",
       "3    0.000000  0.000000  0.000000  0.000000  0.000000        100.0   \n",
       "4    0.019708  0.020650  0.019951  0.018299  0.018177        100.0   \n",
       "..        ...       ...       ...       ...       ...          ...   \n",
       "507  0.000000  0.000000  0.000000  0.000000  0.000000        100.0   \n",
       "508  0.006279  0.004611  0.003427  0.003191  0.002024        100.0   \n",
       "509  0.000000  0.000000  0.000000  0.000000  0.000000        100.0   \n",
       "510  0.039488  0.020706  0.011390  0.004484  0.001453        100.0   \n",
       "511  0.000000  0.000000  0.000000  0.000000  0.000000        100.0   \n",
       "\n",
       "         RollOff    StrongPeak  Label  \n",
       "0    1348.400024  3.452128e+06      4  \n",
       "1    2968.399902  3.938371e+05      4  \n",
       "2    2438.600098  1.618121e+06      4  \n",
       "3    4149.000000  0.000000e+00      4  \n",
       "4    6688.600098  1.129759e+05      4  \n",
       "..           ...           ...    ...  \n",
       "507   314.399994  1.658474e+06      5  \n",
       "508  8270.400391  7.502732e+05      5  \n",
       "509   360.000000  3.837139e+05      5  \n",
       "510  9532.400391  1.642735e+06      5  \n",
       "511   316.799988  4.474773e+06      5  \n",
       "\n",
       "[512 rows x 73 columns]"
      ]
     },
     "execution_count": 4,
     "metadata": {},
     "output_type": "execute_result"
    }
   ],
   "source": [
    "merged_data = merged_data.drop(['c1', 'c2', 'c3', 'c4', 'c5'], axis=1)\n",
    "merged_data"
   ]
  },
  {
   "cell_type": "code",
   "execution_count": 5,
   "id": "b16460be",
   "metadata": {},
   "outputs": [
    {
     "data": {
      "text/plain": [
       "4    70\n",
       "0    69\n",
       "3    66\n",
       "7    64\n",
       "1    64\n",
       "6    62\n",
       "5    59\n",
       "2    58\n",
       "Name: Label, dtype: int64"
      ]
     },
     "execution_count": 5,
     "metadata": {},
     "output_type": "execute_result"
    }
   ],
   "source": [
    "merged_data['Label'].unique\n",
    "merged_data['Label'].value_counts()"
   ]
  },
  {
   "cell_type": "code",
   "execution_count": 6,
   "id": "e65b94ef",
   "metadata": {
    "scrolled": false
   },
   "outputs": [
    {
     "data": {
      "image/png": "[encoded data removed]",
      "text/plain": [
       "<Figure size 432x288 with 1 Axes>"
      ]
     },
     "metadata": {},
     "output_type": "display_data"
    }
   ],
   "source": [
    "from matplotlib import pyplot as plt\n",
    "label_counts = merged_data['Label'].value_counts()\n",
    "labels = label_counts.index\n",
    "counts = label_counts.values\n",
    "plt.pie(counts, labels=labels, autopct='%1.1f%%', shadow=True)\n",
    "\n",
    "# Add title to the chart\n",
    "plt.title('Label Distribution')\n",
    "\n",
    "# Display the chart\n",
    "plt.show()\n"
   ]
  },
  {
   "cell_type": "markdown",
   "id": "4f78179b",
   "metadata": {},
   "source": [
    "# Separating Data."
   ]
  },
  {
   "cell_type": "code",
   "execution_count": 7,
   "id": "9923ba85",
   "metadata": {},
   "outputs": [
    {
     "name": "stdout",
     "output_type": "stream",
     "text": [
      "(512, 72)\n",
      "(512,)\n"
     ]
    }
   ],
   "source": [
    "import numpy as np\n",
    "#Separate the data in which are the sounds that I want to verify first.\n",
    "X=merged_data.drop('Label',axis=1) #features\n",
    "y=merged_data['Label'] #Target\n",
    "\n",
    "print (X.shape)\n",
    "print (y.shape)"
   ]
  },
  {
   "cell_type": "code",
   "execution_count": 8,
   "id": "8906d955",
   "metadata": {},
   "outputs": [
    {
     "data": {
      "image/png": "[encoded data removed]",
      "text/plain": [
       "<Figure size 432x288 with 1 Axes>"
      ]
     },
     "metadata": {
      "needs_background": "light"
     },
     "output_type": "display_data"
    }
   ],
   "source": [
    "colors = {0:'blue',1:'purple',2:'red',3:'orange',4:'green',5:'black',6:'pink',7:'grey'}\n",
    "fig, ax = plt.subplots()\n",
    "grouped = merged_data.groupby('Label')\n",
    "for key,group in grouped:\n",
    "    group.plot(ax=ax, kind='scatter', x='Label', y='PitchSalience', label=key, color = colors[key])\n",
    "plt.show()"
   ]
  },
  {
   "cell_type": "markdown",
   "id": "ebe30cc9",
   "metadata": {},
   "source": [
    "# Dividing Data"
   ]
  },
  {
   "cell_type": "code",
   "execution_count": 9,
   "id": "6bc7a2e1",
   "metadata": {},
   "outputs": [],
   "source": [
    "from sklearn.model_selection import train_test_split\n",
    "\n",
    "X_train, X_test, y_train, y_test = train_test_split(X,y,test_size=0.3) \n",
    "                                                   "
   ]
  },
  {
   "cell_type": "code",
   "execution_count": 10,
   "id": "21e0403e",
   "metadata": {},
   "outputs": [
    {
     "data": {
      "text/plain": [
       "((358, 72), (154, 72), (358,), (154,))"
      ]
     },
     "execution_count": 10,
     "metadata": {},
     "output_type": "execute_result"
    }
   ],
   "source": [
    "X_train.shape, X_test.shape, y_train.shape, y_test.shape"
   ]
  },
  {
   "cell_type": "markdown",
   "id": "e3ff3456",
   "metadata": {},
   "source": [
    "# Cross Validation and K Folding"
   ]
  },
  {
   "cell_type": "code",
   "execution_count": 11,
   "id": "0322bd5f",
   "metadata": {},
   "outputs": [],
   "source": [
    "from sklearn.pipeline import make_pipeline\n",
    "from sklearn.preprocessing import StandardScaler\n",
    "from sklearn.svm import SVC\n",
    "from sklearn.ensemble import RandomForestClassifier\n",
    "\n",
    "pipeline = make_pipeline(StandardScaler(), SVC(kernel='rbf', C=100, random_state=42))\n"
   ]
  },
  {
   "cell_type": "code",
   "execution_count": 12,
   "id": "1add2457",
   "metadata": {},
   "outputs": [
    {
     "data": {
      "text/plain": [
       "Pipeline(steps=[('standardscaler', StandardScaler()),\n",
       "                ('svc', SVC(C=100, random_state=42))])"
      ]
     },
     "execution_count": 12,
     "metadata": {},
     "output_type": "execute_result"
    }
   ],
   "source": [
    "pipeline.fit(X_train, y_train)"
   ]
  },
  {
   "cell_type": "code",
   "execution_count": 13,
   "id": "1b9555fe",
   "metadata": {},
   "outputs": [
    {
     "name": "stdout",
     "output_type": "stream",
     "text": [
      "Model Accuracy RBF: 0.94\n"
     ]
    }
   ],
   "source": [
    "print('Model Accuracy RBF: %.2f' % pipeline.score(X_test, y_test))\n"
   ]
  },
  {
   "cell_type": "code",
   "execution_count": 14,
   "id": "5765add1",
   "metadata": {},
   "outputs": [],
   "source": [
    "from sklearn.model_selection import cross_val_score\n",
    "\n",
    "scores = cross_val_score(pipeline, X=X_train, y=y_train, cv=10, n_jobs=10)"
   ]
  },
  {
   "cell_type": "code",
   "execution_count": 15,
   "id": "1f41113b",
   "metadata": {},
   "outputs": [
    {
     "name": "stdout",
     "output_type": "stream",
     "text": [
      "CV accuracy scores: [0.91666667 0.88888889 0.94444444 0.94444444 0.97222222 0.88888889\n",
      " 0.91666667 0.97222222 0.97142857 0.94285714]\n"
     ]
    }
   ],
   "source": [
    "print('CV accuracy scores: %s' % scores)"
   ]
  },
  {
   "cell_type": "code",
   "execution_count": 16,
   "id": "edbd5e7b",
   "metadata": {},
   "outputs": [
    {
     "data": {
      "image/png": "[encoded data removed]",
      "text/plain": [
       "<Figure size 432x288 with 2 Axes>"
      ]
     },
     "metadata": {
      "needs_background": "light"
     },
     "output_type": "display_data"
    }
   ],
   "source": [
    "import matplotlib.pyplot as plt\n",
    "import seaborn as sns\n",
    "from sklearn.metrics import confusion_matrix\n",
    "s=pipeline.predict(X_test)\n",
    "cm = confusion_matrix(y_test, s)\n",
    "sns.heatmap(cm, annot=True, cmap='Blues')\n",
    "\n",
    "# Set labels and title\n",
    "plt.xlabel('Predicted Labels')\n",
    "plt.ylabel('True Labels')\n",
    "plt.title('SVC RBF')\n",
    "\n",
    "# Show the plot\n",
    "plt.show()"
   ]
  },
  {
   "cell_type": "markdown",
   "id": "d6723418",
   "metadata": {},
   "source": [
    "## import matplotlib.pyplot as plt\n",
    "import numpy as np\n",
    "from sklearn.metrics import confusion_matrix\n",
    "cm =confusion_matrix(y_test, s)"
   ]
  },
  {
   "cell_type": "code",
   "execution_count": 17,
   "id": "4f8dea7a",
   "metadata": {},
   "outputs": [
    {
     "name": "stderr",
     "output_type": "stream",
     "text": [
      "No handles with labels found to put in legend.\n"
     ]
    },
    {
     "data": {
      "image/png": "[encoded data removed]",
      "text/plain": [
       "<Figure size 432x288 with 1 Axes>"
      ]
     },
     "metadata": {
      "needs_background": "light"
     },
     "output_type": "display_data"
    }
   ],
   "source": [
    "import matplotlib.pyplot as plt\n",
    "\n",
    "# Define the colors dictionary\n",
    "colors = {0: 'blue', 1: 'purple', 2: 'red', 3: 'orange', 4: 'green', 5: 'black', 6: 'pink', 7: 'grey'}\n",
    "\n",
    "# Create the scatter plot for actual and predicted values\n",
    "plt.scatter(range(len(y_test)), y_test, color='blue')\n",
    "for i in range(len(y_test)):\n",
    "    plt.scatter(i, s[i], color=colors[s[i]])\n",
    "\n",
    "# Set labels and title\n",
    "plt.xlabel(\"Data Points\")\n",
    "plt.ylabel(\"Target Values\")\n",
    "plt.title(\"Actual vs. Predicted Values\")\n",
    "\n",
    "# Add legend\n",
    "plt.legend()\n",
    "\n",
    "# Show the plot\n",
    "plt.show()\n"
   ]
  },
  {
   "cell_type": "code",
   "execution_count": 18,
   "id": "8e0139d0",
   "metadata": {},
   "outputs": [],
   "source": [
    "from sklearn.model_selection import StratifiedKFold\n",
    "\n",
    "kfold = StratifiedKFold(n_splits=10).split(X_train, y_train)\n",
    "scores = []"
   ]
  },
  {
   "cell_type": "markdown",
   "id": "90676df1",
   "metadata": {},
   "source": [
    "# Crossvalidation"
   ]
  },
  {
   "cell_type": "code",
   "execution_count": 19,
   "id": "9ec5e6f1",
   "metadata": {},
   "outputs": [],
   "source": [
    "param_grid = { \n",
    "    'n_estimators': [200, 500],\n",
    "    'max_features': ['auto', 'sqrt', 'log2'],\n",
    "    'max_depth' : [4,5,6,7,8],\n",
    "    'criterion' :['gini', 'entropy']\n",
    "}"
   ]
  },
  {
   "cell_type": "code",
   "execution_count": 20,
   "id": "4f1d800a",
   "metadata": {},
   "outputs": [],
   "source": [
    "from sklearn.tree import DecisionTreeClassifier\n",
    "from sklearn.neighbors import KNeighborsClassifier\n",
    "from sklearn.naive_bayes import GaussianNB\n",
    "from sklearn.multiclass import OneVsRestClassifier\n",
    "from sklearn.ensemble import RandomForestClassifier\n",
    "rfc = RandomForestClassifier().fit(X_train, y_train)"
   ]
  },
  {
   "cell_type": "code",
   "execution_count": 21,
   "id": "cff7face",
   "metadata": {},
   "outputs": [],
   "source": [
    "from sklearn.model_selection import KFold\n",
    "from sklearn.model_selection import GridSearchCV\n",
    "kfold = KFold(n_splits=10)\n",
    "grid = GridSearchCV(estimator=rfc, \n",
    "param_grid=param_grid,\n",
    "cv=kfold,\n",
    "n_jobs=-1)"
   ]
  },
  {
   "cell_type": "code",
   "execution_count": 22,
   "id": "350c8f28",
   "metadata": {},
   "outputs": [
    {
     "data": {
      "text/plain": [
       "GridSearchCV(cv=KFold(n_splits=10, random_state=None, shuffle=False),\n",
       "             estimator=RandomForestClassifier(), n_jobs=-1,\n",
       "             param_grid={'criterion': ['gini', 'entropy'],\n",
       "                         'max_depth': [4, 5, 6, 7, 8],\n",
       "                         'max_features': ['auto', 'sqrt', 'log2'],\n",
       "                         'n_estimators': [200, 500]})"
      ]
     },
     "execution_count": 22,
     "metadata": {},
     "output_type": "execute_result"
    }
   ],
   "source": [
    "grid.fit(X_train,y_train)"
   ]
  },
  {
   "cell_type": "code",
   "execution_count": 23,
   "id": "336cf0f4",
   "metadata": {},
   "outputs": [
    {
     "data": {
      "text/plain": [
       "{'criterion': 'gini',\n",
       " 'max_depth': 7,\n",
       " 'max_features': 'sqrt',\n",
       " 'n_estimators': 200}"
      ]
     },
     "execution_count": 23,
     "metadata": {},
     "output_type": "execute_result"
    }
   ],
   "source": [
    "grid.best_params_"
   ]
  },
  {
   "cell_type": "code",
   "execution_count": 24,
   "id": "47343949",
   "metadata": {},
   "outputs": [
    {
     "data": {
      "text/plain": [
       "RandomForestClassifier(max_depth=6, n_estimators=500)"
      ]
     },
     "execution_count": 24,
     "metadata": {},
     "output_type": "execute_result"
    }
   ],
   "source": [
    "rfc1=RandomForestClassifier(max_features='auto',n_estimators=500,max_depth=6,criterion='gini')\n",
    "rfc1.fit(X_train,y_train)"
   ]
  },
  {
   "cell_type": "code",
   "execution_count": 25,
   "id": "ae5cbb79",
   "metadata": {},
   "outputs": [
    {
     "data": {
      "image/png": "[encoded data removed]",
      "text/plain": [
       "<Figure size 432x288 with 2 Axes>"
      ]
     },
     "metadata": {
      "needs_background": "light"
     },
     "output_type": "display_data"
    }
   ],
   "source": [
    "y_pred=rfc1.predict(X_test)\n",
    "y_pred=rfc1.predict(X_test)\n",
    "cm = confusion_matrix(y_test, y_pred)\n",
    "sns.heatmap(cm, annot=True, cmap='Blues')\n",
    "\n",
    "# Set labels and title\n",
    "plt.xlabel('Predicted Labels')\n",
    "plt.ylabel('True Labels')\n",
    "plt.title('Random Forest Model')\n",
    "\n",
    "# Show the plot\n",
    "plt.show()\n"
   ]
  },
  {
   "cell_type": "code",
   "execution_count": 26,
   "id": "1ac1f918",
   "metadata": {},
   "outputs": [
    {
     "name": "stdout",
     "output_type": "stream",
     "text": [
      "0.9935064935064936\n"
     ]
    }
   ],
   "source": [
    "accuracy = rfc1.score(X_test, y_test)\n",
    "print(accuracy)"
   ]
  },
  {
   "cell_type": "markdown",
   "id": "da1ba1e8",
   "metadata": {},
   "source": [
    "# MODELS GAUSSIAN KNN DESICION TREE "
   ]
  },
  {
   "cell_type": "code",
   "execution_count": 27,
   "id": "015e7e4c",
   "metadata": {},
   "outputs": [],
   "source": [
    "from sklearn.tree import DecisionTreeClassifier\n",
    "from sklearn.neighbors import KNeighborsClassifier\n",
    "from sklearn.naive_bayes import GaussianNB\n",
    "from sklearn import svm\n",
    "from sklearn.multiclass import OneVsRestClassifier\n",
    "gnb = GaussianNB().fit(X_train, y_train)\n",
    "dtree_model = DecisionTreeClassifier(max_depth = 2).fit(X_train, y_train)\n",
    "knn = KNeighborsClassifier(n_neighbors = 7).fit(X_train, y_train)\n",
    "estim2 = OneVsRestClassifier(SVC(kernel='linear', decision_function_shape='ovr'))\n",
    "svc=SVC(decision_function_shape='ovo').fit(X_train,y_train)\n",
    "clf = svm.SVC(kernel='rbf', C=10).fit(X_train, y_train)\n"
   ]
  },
  {
   "cell_type": "markdown",
   "id": "dd0a245b",
   "metadata": {},
   "source": [
    "# Predictions"
   ]
  }
 ],
 "metadata": {
  "kernelspec": {
   "display_name": "Python 3",
   "language": "python",
   "name": "python3"
  },
  "language_info": {
   "codemirror_mode": {
    "name": "ipython",
    "version": 3
   },
   "file_extension": ".py",
   "mimetype": "text/x-python",
   "name": "python",
   "nbconvert_exporter": "python",
   "pygments_lexer": "ipython3",
   "version": "3.6.8"
  }
 },
 "nbformat": 4,
 "nbformat_minor": 5
}

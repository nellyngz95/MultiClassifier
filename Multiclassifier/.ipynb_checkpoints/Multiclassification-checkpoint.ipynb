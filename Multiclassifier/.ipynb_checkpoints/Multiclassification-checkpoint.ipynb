{
 "cells": [
  {
   "cell_type": "code",
   "execution_count": 18,
   "id": "3f9d738f",
   "metadata": {},
   "outputs": [],
   "source": [
    "import pandas as pd\n",
    "import numpy as np\n",
    "import essentia \n",
    "import essentia.standard as ess \n",
    "import seaborn as sns"
   ]
  },
  {
   "cell_type": "markdown",
   "id": "7d8c333c",
   "metadata": {},
   "source": [
    "# DATASETS"
   ]
  },
  {
   "cell_type": "code",
   "execution_count": 19,
   "id": "d9ac8297",
   "metadata": {},
   "outputs": [],
   "source": [
    "df=pd.read_csv(\"LabelWF.csv\")\n",
    "data=df.iloc[:,1:]\n",
    "datas= data.fillna(0)\n",
    "df2=pd.read_csv(\"LabelBE.csv\")\n",
    "data2=df2.iloc[:,1:]\n",
    "datas2= data2.fillna(0)\n"
   ]
  },
  {
   "cell_type": "code",
   "execution_count": 21,
   "id": "b41b2865",
   "metadata": {},
   "outputs": [],
   "source": [
    "merged_data = pd.merge(datas, datas2, how='outer',on=['Loudness', 'RMS', 'spectralflux', 'Centroid', 'HighFrequency', 'ZCR',\n",
    "       'Energy', 'PitchSalience', 'EffectiveDuration', 'Decrease', 'Intensity',\n",
    "       'c1', 'c2', 'c3', 'c4', 'c5', 'DynComplex', 'LDB', 'Frequencies',\n",
    "       'Amplitudes', 'Mean', 'Median', 'Variance', 'MaxToTotal', 'MinToTotal',\n",
    "       'TCToTotal', 'FlatnessSFX', 'InstantPower', 'logAttackTime',\n",
    "       'attackStart', 'attackStop', 'Spread', 'Skewness', 'Kurtosis', '0', '1',\n",
    "       '2', '3', '4', '5', '6', '7', '8', '9', '10', '11', '12', '13', '14',\n",
    "       '15', '16', '17', '18', '19', '20', '21', '22', '23', '24', '25', '26',\n",
    "       '27', '28', '29', '30', '31', '32', '33', '34', '35', '36', '37', '38',\n",
    "       '39', 'SpecComplex', 'RollOff', 'StrongPeak', 'Label'])\n"
   ]
  },
  {
   "cell_type": "code",
   "execution_count": 22,
   "id": "5afea083",
   "metadata": {},
   "outputs": [
    {
     "data": {
      "text/html": [
       "<div>\n",
       "<style scoped>\n",
       "    .dataframe tbody tr th:only-of-type {\n",
       "        vertical-align: middle;\n",
       "    }\n",
       "\n",
       "    .dataframe tbody tr th {\n",
       "        vertical-align: top;\n",
       "    }\n",
       "\n",
       "    .dataframe thead th {\n",
       "        text-align: right;\n",
       "    }\n",
       "</style>\n",
       "<table border=\"1\" class=\"dataframe\">\n",
       "  <thead>\n",
       "    <tr style=\"text-align: right;\">\n",
       "      <th></th>\n",
       "      <th>Loudness</th>\n",
       "      <th>RMS</th>\n",
       "      <th>spectralflux</th>\n",
       "      <th>Centroid</th>\n",
       "      <th>HighFrequency</th>\n",
       "      <th>ZCR</th>\n",
       "      <th>Energy</th>\n",
       "      <th>PitchSalience</th>\n",
       "      <th>EffectiveDuration</th>\n",
       "      <th>Decrease</th>\n",
       "      <th>...</th>\n",
       "      <th>34</th>\n",
       "      <th>35</th>\n",
       "      <th>36</th>\n",
       "      <th>37</th>\n",
       "      <th>38</th>\n",
       "      <th>39</th>\n",
       "      <th>SpecComplex</th>\n",
       "      <th>RollOff</th>\n",
       "      <th>StrongPeak</th>\n",
       "      <th>Label</th>\n",
       "    </tr>\n",
       "  </thead>\n",
       "  <tbody>\n",
       "    <tr>\n",
       "      <th>0</th>\n",
       "      <td>636.574341</td>\n",
       "      <td>0.263463</td>\n",
       "      <td>123.715660</td>\n",
       "      <td>0.523523</td>\n",
       "      <td>88311032.0</td>\n",
       "      <td>0.093061</td>\n",
       "      <td>15305.565430</td>\n",
       "      <td>0.250594</td>\n",
       "      <td>0.476440</td>\n",
       "      <td>-0.000896</td>\n",
       "      <td>...</td>\n",
       "      <td>0.037915</td>\n",
       "      <td>0.039987</td>\n",
       "      <td>0.035348</td>\n",
       "      <td>0.031390</td>\n",
       "      <td>0.036538</td>\n",
       "      <td>0.036202</td>\n",
       "      <td>100.0</td>\n",
       "      <td>1348.400024</td>\n",
       "      <td>3.452128e+06</td>\n",
       "      <td>4</td>\n",
       "    </tr>\n",
       "    <tr>\n",
       "      <th>1</th>\n",
       "      <td>390.424988</td>\n",
       "      <td>0.182927</td>\n",
       "      <td>85.898033</td>\n",
       "      <td>0.562918</td>\n",
       "      <td>45242984.0</td>\n",
       "      <td>0.133274</td>\n",
       "      <td>7378.472168</td>\n",
       "      <td>0.162448</td>\n",
       "      <td>0.206213</td>\n",
       "      <td>-0.001279</td>\n",
       "      <td>...</td>\n",
       "      <td>0.000000</td>\n",
       "      <td>0.000000</td>\n",
       "      <td>0.000000</td>\n",
       "      <td>0.000000</td>\n",
       "      <td>0.000000</td>\n",
       "      <td>0.000000</td>\n",
       "      <td>100.0</td>\n",
       "      <td>2968.399902</td>\n",
       "      <td>3.938371e+05</td>\n",
       "      <td>4</td>\n",
       "    </tr>\n",
       "    <tr>\n",
       "      <th>2</th>\n",
       "      <td>216.328857</td>\n",
       "      <td>0.117738</td>\n",
       "      <td>55.286957</td>\n",
       "      <td>0.317760</td>\n",
       "      <td>33935804.0</td>\n",
       "      <td>0.095687</td>\n",
       "      <td>3056.647705</td>\n",
       "      <td>0.103867</td>\n",
       "      <td>0.036281</td>\n",
       "      <td>0.000504</td>\n",
       "      <td>...</td>\n",
       "      <td>0.023598</td>\n",
       "      <td>0.028323</td>\n",
       "      <td>0.022820</td>\n",
       "      <td>0.022308</td>\n",
       "      <td>0.020367</td>\n",
       "      <td>0.018357</td>\n",
       "      <td>100.0</td>\n",
       "      <td>2438.600098</td>\n",
       "      <td>1.618121e+06</td>\n",
       "      <td>4</td>\n",
       "    </tr>\n",
       "    <tr>\n",
       "      <th>3</th>\n",
       "      <td>85.865311</td>\n",
       "      <td>0.059080</td>\n",
       "      <td>27.742624</td>\n",
       "      <td>0.500412</td>\n",
       "      <td>7063722.0</td>\n",
       "      <td>0.102576</td>\n",
       "      <td>769.653198</td>\n",
       "      <td>0.092782</td>\n",
       "      <td>0.006803</td>\n",
       "      <td>-0.000062</td>\n",
       "      <td>...</td>\n",
       "      <td>0.000000</td>\n",
       "      <td>0.000000</td>\n",
       "      <td>0.000000</td>\n",
       "      <td>0.000000</td>\n",
       "      <td>0.000000</td>\n",
       "      <td>0.000000</td>\n",
       "      <td>100.0</td>\n",
       "      <td>4149.000000</td>\n",
       "      <td>0.000000e+00</td>\n",
       "      <td>4</td>\n",
       "    </tr>\n",
       "    <tr>\n",
       "      <th>4</th>\n",
       "      <td>277.413788</td>\n",
       "      <td>0.141751</td>\n",
       "      <td>66.562531</td>\n",
       "      <td>0.385765</td>\n",
       "      <td>39559824.0</td>\n",
       "      <td>0.200644</td>\n",
       "      <td>4430.570801</td>\n",
       "      <td>0.087282</td>\n",
       "      <td>0.085057</td>\n",
       "      <td>0.000140</td>\n",
       "      <td>...</td>\n",
       "      <td>0.017491</td>\n",
       "      <td>0.019708</td>\n",
       "      <td>0.020650</td>\n",
       "      <td>0.019951</td>\n",
       "      <td>0.018299</td>\n",
       "      <td>0.018177</td>\n",
       "      <td>100.0</td>\n",
       "      <td>6688.600098</td>\n",
       "      <td>1.129759e+05</td>\n",
       "      <td>4</td>\n",
       "    </tr>\n",
       "    <tr>\n",
       "      <th>...</th>\n",
       "      <td>...</td>\n",
       "      <td>...</td>\n",
       "      <td>...</td>\n",
       "      <td>...</td>\n",
       "      <td>...</td>\n",
       "      <td>...</td>\n",
       "      <td>...</td>\n",
       "      <td>...</td>\n",
       "      <td>...</td>\n",
       "      <td>...</td>\n",
       "      <td>...</td>\n",
       "      <td>...</td>\n",
       "      <td>...</td>\n",
       "      <td>...</td>\n",
       "      <td>...</td>\n",
       "      <td>...</td>\n",
       "      <td>...</td>\n",
       "      <td>...</td>\n",
       "      <td>...</td>\n",
       "      <td>...</td>\n",
       "      <td>...</td>\n",
       "    </tr>\n",
       "    <tr>\n",
       "      <th>507</th>\n",
       "      <td>380.672516</td>\n",
       "      <td>0.179507</td>\n",
       "      <td>84.291672</td>\n",
       "      <td>0.937214</td>\n",
       "      <td>101693848.0</td>\n",
       "      <td>0.015515</td>\n",
       "      <td>7105.085938</td>\n",
       "      <td>0.074529</td>\n",
       "      <td>0.241020</td>\n",
       "      <td>0.000402</td>\n",
       "      <td>...</td>\n",
       "      <td>0.000000</td>\n",
       "      <td>0.000000</td>\n",
       "      <td>0.000000</td>\n",
       "      <td>0.000000</td>\n",
       "      <td>0.000000</td>\n",
       "      <td>0.000000</td>\n",
       "      <td>100.0</td>\n",
       "      <td>314.399994</td>\n",
       "      <td>1.658474e+06</td>\n",
       "      <td>5</td>\n",
       "    </tr>\n",
       "    <tr>\n",
       "      <th>508</th>\n",
       "      <td>327.649719</td>\n",
       "      <td>0.160497</td>\n",
       "      <td>75.365303</td>\n",
       "      <td>0.530154</td>\n",
       "      <td>69796408.0</td>\n",
       "      <td>0.078113</td>\n",
       "      <td>5679.929199</td>\n",
       "      <td>0.053028</td>\n",
       "      <td>0.244308</td>\n",
       "      <td>-0.000026</td>\n",
       "      <td>...</td>\n",
       "      <td>0.008420</td>\n",
       "      <td>0.006279</td>\n",
       "      <td>0.004611</td>\n",
       "      <td>0.003427</td>\n",
       "      <td>0.003191</td>\n",
       "      <td>0.002024</td>\n",
       "      <td>100.0</td>\n",
       "      <td>8270.400391</td>\n",
       "      <td>7.502732e+05</td>\n",
       "      <td>5</td>\n",
       "    </tr>\n",
       "    <tr>\n",
       "      <th>509</th>\n",
       "      <td>413.535400</td>\n",
       "      <td>0.190949</td>\n",
       "      <td>89.664673</td>\n",
       "      <td>1.399865</td>\n",
       "      <td>96477128.0</td>\n",
       "      <td>0.018395</td>\n",
       "      <td>8039.753906</td>\n",
       "      <td>0.089876</td>\n",
       "      <td>0.433424</td>\n",
       "      <td>0.000057</td>\n",
       "      <td>...</td>\n",
       "      <td>0.000000</td>\n",
       "      <td>0.000000</td>\n",
       "      <td>0.000000</td>\n",
       "      <td>0.000000</td>\n",
       "      <td>0.000000</td>\n",
       "      <td>0.000000</td>\n",
       "      <td>100.0</td>\n",
       "      <td>360.000000</td>\n",
       "      <td>3.837139e+05</td>\n",
       "      <td>5</td>\n",
       "    </tr>\n",
       "    <tr>\n",
       "      <th>510</th>\n",
       "      <td>403.449219</td>\n",
       "      <td>0.187462</td>\n",
       "      <td>88.027527</td>\n",
       "      <td>0.875160</td>\n",
       "      <td>105171264.0</td>\n",
       "      <td>0.252000</td>\n",
       "      <td>7748.845703</td>\n",
       "      <td>0.066099</td>\n",
       "      <td>0.410658</td>\n",
       "      <td>0.000188</td>\n",
       "      <td>...</td>\n",
       "      <td>0.071617</td>\n",
       "      <td>0.039488</td>\n",
       "      <td>0.020706</td>\n",
       "      <td>0.011390</td>\n",
       "      <td>0.004484</td>\n",
       "      <td>0.001453</td>\n",
       "      <td>100.0</td>\n",
       "      <td>9532.400391</td>\n",
       "      <td>1.642735e+06</td>\n",
       "      <td>5</td>\n",
       "    </tr>\n",
       "    <tr>\n",
       "      <th>511</th>\n",
       "      <td>407.950653</td>\n",
       "      <td>0.189021</td>\n",
       "      <td>88.759445</td>\n",
       "      <td>0.522880</td>\n",
       "      <td>98797888.0</td>\n",
       "      <td>0.015664</td>\n",
       "      <td>7878.239746</td>\n",
       "      <td>0.082736</td>\n",
       "      <td>0.512948</td>\n",
       "      <td>-0.000271</td>\n",
       "      <td>...</td>\n",
       "      <td>0.000000</td>\n",
       "      <td>0.000000</td>\n",
       "      <td>0.000000</td>\n",
       "      <td>0.000000</td>\n",
       "      <td>0.000000</td>\n",
       "      <td>0.000000</td>\n",
       "      <td>100.0</td>\n",
       "      <td>316.799988</td>\n",
       "      <td>4.474773e+06</td>\n",
       "      <td>5</td>\n",
       "    </tr>\n",
       "  </tbody>\n",
       "</table>\n",
       "<p>512 rows × 78 columns</p>\n",
       "</div>"
      ],
      "text/plain": [
       "       Loudness       RMS  spectralflux  Centroid  HighFrequency       ZCR  \\\n",
       "0    636.574341  0.263463    123.715660  0.523523     88311032.0  0.093061   \n",
       "1    390.424988  0.182927     85.898033  0.562918     45242984.0  0.133274   \n",
       "2    216.328857  0.117738     55.286957  0.317760     33935804.0  0.095687   \n",
       "3     85.865311  0.059080     27.742624  0.500412      7063722.0  0.102576   \n",
       "4    277.413788  0.141751     66.562531  0.385765     39559824.0  0.200644   \n",
       "..          ...       ...           ...       ...            ...       ...   \n",
       "507  380.672516  0.179507     84.291672  0.937214    101693848.0  0.015515   \n",
       "508  327.649719  0.160497     75.365303  0.530154     69796408.0  0.078113   \n",
       "509  413.535400  0.190949     89.664673  1.399865     96477128.0  0.018395   \n",
       "510  403.449219  0.187462     88.027527  0.875160    105171264.0  0.252000   \n",
       "511  407.950653  0.189021     88.759445  0.522880     98797888.0  0.015664   \n",
       "\n",
       "           Energy  PitchSalience  EffectiveDuration  Decrease  ...        34  \\\n",
       "0    15305.565430       0.250594           0.476440 -0.000896  ...  0.037915   \n",
       "1     7378.472168       0.162448           0.206213 -0.001279  ...  0.000000   \n",
       "2     3056.647705       0.103867           0.036281  0.000504  ...  0.023598   \n",
       "3      769.653198       0.092782           0.006803 -0.000062  ...  0.000000   \n",
       "4     4430.570801       0.087282           0.085057  0.000140  ...  0.017491   \n",
       "..            ...            ...                ...       ...  ...       ...   \n",
       "507   7105.085938       0.074529           0.241020  0.000402  ...  0.000000   \n",
       "508   5679.929199       0.053028           0.244308 -0.000026  ...  0.008420   \n",
       "509   8039.753906       0.089876           0.433424  0.000057  ...  0.000000   \n",
       "510   7748.845703       0.066099           0.410658  0.000188  ...  0.071617   \n",
       "511   7878.239746       0.082736           0.512948 -0.000271  ...  0.000000   \n",
       "\n",
       "           35        36        37        38        39  SpecComplex  \\\n",
       "0    0.039987  0.035348  0.031390  0.036538  0.036202        100.0   \n",
       "1    0.000000  0.000000  0.000000  0.000000  0.000000        100.0   \n",
       "2    0.028323  0.022820  0.022308  0.020367  0.018357        100.0   \n",
       "3    0.000000  0.000000  0.000000  0.000000  0.000000        100.0   \n",
       "4    0.019708  0.020650  0.019951  0.018299  0.018177        100.0   \n",
       "..        ...       ...       ...       ...       ...          ...   \n",
       "507  0.000000  0.000000  0.000000  0.000000  0.000000        100.0   \n",
       "508  0.006279  0.004611  0.003427  0.003191  0.002024        100.0   \n",
       "509  0.000000  0.000000  0.000000  0.000000  0.000000        100.0   \n",
       "510  0.039488  0.020706  0.011390  0.004484  0.001453        100.0   \n",
       "511  0.000000  0.000000  0.000000  0.000000  0.000000        100.0   \n",
       "\n",
       "         RollOff    StrongPeak  Label  \n",
       "0    1348.400024  3.452128e+06      4  \n",
       "1    2968.399902  3.938371e+05      4  \n",
       "2    2438.600098  1.618121e+06      4  \n",
       "3    4149.000000  0.000000e+00      4  \n",
       "4    6688.600098  1.129759e+05      4  \n",
       "..           ...           ...    ...  \n",
       "507   314.399994  1.658474e+06      5  \n",
       "508  8270.400391  7.502732e+05      5  \n",
       "509   360.000000  3.837139e+05      5  \n",
       "510  9532.400391  1.642735e+06      5  \n",
       "511   316.799988  4.474773e+06      5  \n",
       "\n",
       "[512 rows x 78 columns]"
      ]
     },
     "execution_count": 22,
     "metadata": {},
     "output_type": "execute_result"
    }
   ],
   "source": [
    "merged_data"
   ]
  },
  {
   "cell_type": "code",
   "execution_count": 23,
   "id": "b16460be",
   "metadata": {},
   "outputs": [
    {
     "data": {
      "text/plain": [
       "4    70\n",
       "0    69\n",
       "3    66\n",
       "7    64\n",
       "1    64\n",
       "6    62\n",
       "5    59\n",
       "2    58\n",
       "Name: Label, dtype: int64"
      ]
     },
     "execution_count": 23,
     "metadata": {},
     "output_type": "execute_result"
    }
   ],
   "source": [
    "merged_data['Label'].unique\n",
    "merged_data['Label'].value_counts()"
   ]
  },
  {
   "cell_type": "code",
   "execution_count": 24,
   "id": "e65b94ef",
   "metadata": {
    "scrolled": false
   },
   "outputs": [
    {
     "data": {
      "image/png": "[encoded data removed]",
      "text/plain": [
       "<Figure size 432x288 with 1 Axes>"
      ]
     },
     "metadata": {},
     "output_type": "display_data"
    }
   ],
   "source": [
    "from matplotlib import pyplot as plt\n",
    "label_counts = merged_data['Label'].value_counts()\n",
    "labels = label_counts.index\n",
    "counts = label_counts.values\n",
    "plt.pie(counts, labels=labels, autopct='%1.1f%%', shadow=True)\n",
    "\n",
    "# Add title to the chart\n",
    "plt.title('Label Distribution')\n",
    "\n",
    "# Display the chart\n",
    "plt.show()\n"
   ]
  },
  {
   "cell_type": "markdown",
   "id": "4f78179b",
   "metadata": {},
   "source": [
    "# Separating Data."
   ]
  },
  {
   "cell_type": "code",
   "execution_count": 55,
   "id": "9923ba85",
   "metadata": {},
   "outputs": [
    {
     "name": "stdout",
     "output_type": "stream",
     "text": [
      "(512, 77)\n",
      "(512,)\n"
     ]
    }
   ],
   "source": [
    "import numpy as np\n",
    "#Separate the data in which are the sounds that I want to verify first.\n",
    "X=merged_data.drop('Label',axis=1) #features\n",
    "y=merged_data['Label'] #Target\n",
    "\n",
    "print (X.shape)\n",
    "print (y.shape)"
   ]
  },
  {
   "cell_type": "code",
   "execution_count": 56,
   "id": "8906d955",
   "metadata": {},
   "outputs": [
    {
     "data": {
      "image/png": "[encoded data removed]",
      "text/plain": [
       "<Figure size 432x288 with 1 Axes>"
      ]
     },
     "metadata": {
      "needs_background": "light"
     },
     "output_type": "display_data"
    }
   ],
   "source": [
    "colors = {0:'blue',1:'purple',2:'red',3:'orange',4:'green',5:'black',6:'pink',7:'grey'}\n",
    "fig, ax = plt.subplots()\n",
    "grouped = merged_data.groupby('Label')\n",
    "for key,group in grouped:\n",
    "    group.plot(ax=ax, kind='scatter', x='Label', y='Loudness', label=key, color = colors[key])\n",
    "plt.show()"
   ]
  },
  {
   "cell_type": "markdown",
   "id": "ebe30cc9",
   "metadata": {},
   "source": [
    "# Dividing Data"
   ]
  },
  {
   "cell_type": "code",
   "execution_count": 59,
   "id": "6bc7a2e1",
   "metadata": {},
   "outputs": [],
   "source": [
    "from sklearn.model_selection import train_test_split\n",
    "\n",
    "X_train, X_test, y_train, y_test = train_test_split(X,y,test_size=0.3) \n",
    "                                                   "
   ]
  },
  {
   "cell_type": "code",
   "execution_count": 60,
   "id": "21e0403e",
   "metadata": {},
   "outputs": [
    {
     "data": {
      "text/plain": [
       "((358, 77), (154, 77), (358,), (154,))"
      ]
     },
     "execution_count": 60,
     "metadata": {},
     "output_type": "execute_result"
    }
   ],
   "source": [
    "X_train.shape, X_test.shape, y_train.shape, y_test.shape"
   ]
  },
  {
   "cell_type": "markdown",
   "id": "e3ff3456",
   "metadata": {},
   "source": [
    "# Cross Validation and K Folding"
   ]
  },
  {
   "cell_type": "code",
   "execution_count": null,
   "id": "0322bd5f",
   "metadata": {},
   "outputs": [],
   "source": [
    "from sklearn.pipeline import make_pipeline\n",
    "from sklearn.preprocessing import StandardScaler\n",
    "from sklearn.svm import SVC\n",
    "from sklearn.ensemble import RandomForestClassifier\n",
    "linear=make_pipeline(StandardScaler(),SVC(kernel='linear', C=100).fit(X, y))\n",
    "pipeline = make_pipeline(StandardScaler(), SVC(kernel='rbf', C=100, random_state=42))\n",
    "poly=make_pipeline(StandardScaler(),SVC(kernel='poly', degree=3, C=C).fit(X, y))"
   ]
  },
  {
   "cell_type": "code",
   "execution_count": null,
   "id": "1add2457",
   "metadata": {},
   "outputs": [],
   "source": [
    "pipeline.fit(X_train, y_train)"
   ]
  },
  {
   "cell_type": "code",
   "execution_count": null,
   "id": "1b9555fe",
   "metadata": {},
   "outputs": [],
   "source": [
    "print('Model Accuracy RBF: %.2f' % pipeline.score(X_test, y_test))\n",
    "print('Model Accuracy Linear: %.2f' % lin.score(X_test, y_test))\n",
    "print('Model Accuracy Poly: %.2f' % poly.score(X_test, y_test))"
   ]
  },
  {
   "cell_type": "code",
   "execution_count": 83,
   "id": "5765add1",
   "metadata": {},
   "outputs": [],
   "source": [
    "from sklearn.model_selection import cross_val_score\n",
    "\n",
    "scores = cross_val_score(pipeline, X=X_train, y=y_train, cv=10, n_jobs=10)"
   ]
  },
  {
   "cell_type": "code",
   "execution_count": 84,
   "id": "1f41113b",
   "metadata": {},
   "outputs": [
    {
     "name": "stdout",
     "output_type": "stream",
     "text": [
      "CV accuracy scores: [0.94444444 0.94444444 0.94444444 0.94444444 0.88888889 0.94444444\n",
      " 0.88888889 0.91666667 0.94285714 0.94285714]\n"
     ]
    }
   ],
   "source": [
    "print('CV accuracy scores: %s' % scores)"
   ]
  },
  {
   "cell_type": "code",
   "execution_count": 85,
   "id": "edbd5e7b",
   "metadata": {},
   "outputs": [],
   "source": [
    "s=pipeline.predict(X_test)\n"
   ]
  },
  {
   "cell_type": "code",
   "execution_count": 92,
   "id": "4f8dea7a",
   "metadata": {},
   "outputs": [
    {
     "name": "stderr",
     "output_type": "stream",
     "text": [
      "No handles with labels found to put in legend.\n"
     ]
    },
    {
     "data": {
      "image/png": "[encoded data removed]",
      "text/plain": [
       "<Figure size 432x288 with 1 Axes>"
      ]
     },
     "metadata": {
      "needs_background": "light"
     },
     "output_type": "display_data"
    }
   ],
   "source": [
    "import matplotlib.pyplot as plt\n",
    "\n",
    "# Define the colors dictionary\n",
    "colors = {0: 'blue', 1: 'purple', 2: 'red', 3: 'orange', 4: 'green', 5: 'black', 6: 'pink', 7: 'grey'}\n",
    "\n",
    "# Create the scatter plot for actual and predicted values\n",
    "plt.scatter(range(len(y_test)), y_test, color='blue')\n",
    "for i in range(len(y_test)):\n",
    "    plt.scatter(i, s[i], color=colors[s[i]])\n",
    "\n",
    "# Set labels and title\n",
    "plt.xlabel(\"Data Points\")\n",
    "plt.ylabel(\"Target Values\")\n",
    "plt.title(\"Actual vs. Predicted Values\")\n",
    "\n",
    "# Add legend\n",
    "plt.legend()\n",
    "\n",
    "# Show the plot\n",
    "plt.show()\n"
   ]
  },
  {
   "cell_type": "code",
   "execution_count": 66,
   "id": "8e0139d0",
   "metadata": {},
   "outputs": [],
   "source": [
    "from sklearn.model_selection import StratifiedKFold\n",
    "\n",
    "kfold = StratifiedKFold(n_splits=10).split(X_train, y_train)\n",
    "scores = []"
   ]
  },
  {
   "cell_type": "code",
   "execution_count": 67,
   "id": "676ae5fc",
   "metadata": {},
   "outputs": [
    {
     "name": "stdout",
     "output_type": "stream",
     "text": [
      "0 [ 24  27  28  30  32  34  35  37  39  40  41  42  43  45  49  50  51  52\n",
      "  53  54  55  56  58  59  60  61  62  63  64  65  66  67  68  69  70  71\n",
      "  72  73  74  75  76  77  78  79  80  81  82  83  84  85  86  87  88  89\n",
      "  90  91  92  93  94  95  96  97  98  99 100 101 102 103 104 105 106 107\n",
      " 108 109 110 111 112 113 114 115 116 117 118 119 120 121 122 123 124 125\n",
      " 126 127 128 129 130 131 132 133 134 135 136 137 138 139 140 141 142 143\n",
      " 144 145 146 147 148 149 150 151 152 153 154 155 156 157 158 159 160 161\n",
      " 162 163 164 165 166 167 168 169 170 171 172 173 174 175 176 177 178 179\n",
      " 180 181 182 183 184 185 186 187 188 189 190 191 192 193 194 195 196 197\n",
      " 198 199 200 201 202 203 204 205 206 207 208 209 210 211 212 213 214 215\n",
      " 216 217 218 219 220 221 222 223 224 225 226 227 228 229 230 231 232 233\n",
      " 234 235 236 237 238 239 240 241 242 243 244 245 246 247 248 249 250 251\n",
      " 252 253 254 255 256 257 258 259 260 261 262 263 264 265 266 267 268 269\n",
      " 270 271 272 273 274 275 276 277 278 279 280 281 282 283 284 285 286 287\n",
      " 288 289 290 291 292 293 294 295 296 297 298 299 300 301 302 303 304 305\n",
      " 306 307 308 309 310 311 312 313 314 315 316 317 318 319 320 321 322 323\n",
      " 324 325 326 327 328 329 330 331 332 333 334 335 336 337 338 339 340 341\n",
      " 342 343 344 345 346 347 348 349 350 351 352 353 354 355 356 357] [ 0  1  2  3  4  5  6  7  8  9 10 11 12 13 14 15 16 17 18 19 20 21 22 23\n",
      " 25 26 29 31 33 36 38 44 46 47 48 57]\n",
      "1 [  0   1   2   3   4   5   6   7   8   9  10  11  12  13  14  15  16  17\n",
      "  18  19  20  21  22  23  25  26  29  31  33  36  38  43  44  46  47  48\n",
      "  56  57  60  62  63  65  71  72  73  75  78  79  81  82  83  85  87  88\n",
      "  89  90  91  92  93  94  95  96  98  99 100 101 102 103 104 105 106 107\n",
      " 108 109 110 111 112 113 114 115 116 117 118 119 120 121 122 123 124 125\n",
      " 126 127 128 129 130 131 132 133 134 135 136 137 138 139 140 141 142 143\n",
      " 144 145 146 147 148 149 150 151 152 153 154 155 156 157 158 159 160 161\n",
      " 162 163 164 165 166 167 168 169 170 171 172 173 174 175 176 177 178 179\n",
      " 180 181 182 183 184 185 186 187 188 189 190 191 192 193 194 195 196 197\n",
      " 198 199 200 201 202 203 204 205 206 207 208 209 210 211 212 213 214 215\n",
      " 216 217 218 219 220 221 222 223 224 225 226 227 228 229 230 231 232 233\n",
      " 234 235 236 237 238 239 240 241 242 243 244 245 246 247 248 249 250 251\n",
      " 252 253 254 255 256 257 258 259 260 261 262 263 264 265 266 267 268 269\n",
      " 270 271 272 273 274 275 276 277 278 279 280 281 282 283 284 285 286 287\n",
      " 288 289 290 291 292 293 294 295 296 297 298 299 300 301 302 303 304 305\n",
      " 306 307 308 309 310 311 312 313 314 315 316 317 318 319 320 321 322 323\n",
      " 324 325 326 327 328 329 330 331 332 333 334 335 336 337 338 339 340 341\n",
      " 342 343 344 345 346 347 348 349 350 351 352 353 354 355 356 357] [24 27 28 30 32 34 35 37 39 40 41 42 45 49 50 51 52 53 54 55 58 59 61 64\n",
      " 66 67 68 69 70 74 76 77 80 84 86 97]\n",
      "2 [  0   1   2   3   4   5   6   7   8   9  10  11  12  13  14  15  16  17\n",
      "  18  19  20  21  22  23  24  25  26  27  28  29  30  31  32  33  34  35\n",
      "  36  37  38  39  40  41  42  44  45  46  47  48  49  50  51  52  53  54\n",
      "  55  57  58  59  61  64  66  67  68  69  70  74  76  77  80  83  84  86\n",
      "  88  90  97  99 100 102 103 104 108 109 111 112 114 115 116 117 118 119\n",
      " 121 123 124 125 127 128 129 131 132 133 134 135 136 137 138 139 140 142\n",
      " 143 144 146 147 148 149 150 151 152 153 154 155 156 157 158 159 160 161\n",
      " 162 163 164 165 166 167 168 169 170 171 172 173 174 175 176 177 178 179\n",
      " 180 181 182 183 184 185 186 187 188 189 190 191 192 193 194 195 196 197\n",
      " 198 199 200 201 202 203 204 205 206 207 208 209 210 211 212 213 214 215\n",
      " 216 217 218 219 220 221 222 223 224 225 226 227 228 229 230 231 232 233\n",
      " 234 235 236 237 238 239 240 241 242 243 244 245 246 247 248 249 250 251\n",
      " 252 253 254 255 256 257 258 259 260 261 262 263 264 265 266 267 268 269\n",
      " 270 271 272 273 274 275 276 277 278 279 280 281 282 283 284 285 286 287\n",
      " 288 289 290 291 292 293 294 295 296 297 298 299 300 301 302 303 304 305\n",
      " 306 307 308 309 310 311 312 313 314 315 316 317 318 319 320 321 322 323\n",
      " 324 325 326 327 328 329 330 331 332 333 334 335 336 337 338 339 340 341\n",
      " 342 343 344 345 346 347 348 349 350 351 352 353 354 355 356 357] [ 43  56  60  62  63  65  71  72  73  75  78  79  81  82  85  87  89  91\n",
      "  92  93  94  95  96  98 101 105 106 107 110 113 120 122 126 130 141 145]\n",
      "3 [  0   1   2   3   4   5   6   7   8   9  10  11  12  13  14  15  16  17\n",
      "  18  19  20  21  22  23  24  25  26  27  28  29  30  31  32  33  34  35\n",
      "  36  37  38  39  40  41  42  43  44  45  46  47  48  49  50  51  52  53\n",
      "  54  55  56  57  58  59  60  61  62  63  64  65  66  67  68  69  70  71\n",
      "  72  73  74  75  76  77  78  79  80  81  82  84  85  86  87  89  91  92\n",
      "  93  94  95  96  97  98 101 105 106 107 110 113 116 119 120 121 122 126\n",
      " 128 130 132 134 138 139 140 141 142 143 145 146 147 149 151 152 153 154\n",
      " 156 160 162 164 165 166 168 169 170 171 172 173 174 175 176 177 178 179\n",
      " 180 181 182 183 184 185 186 187 188 189 190 191 192 193 194 195 196 197\n",
      " 198 199 200 201 202 203 204 205 206 207 208 209 210 211 212 213 214 215\n",
      " 216 217 218 219 220 221 222 223 224 225 226 227 228 229 230 231 232 233\n",
      " 234 235 236 237 238 239 240 241 242 243 244 245 246 247 248 249 250 251\n",
      " 252 253 254 255 256 257 258 259 260 261 262 263 264 265 266 267 268 269\n",
      " 270 271 272 273 274 275 276 277 278 279 280 281 282 283 284 285 286 287\n",
      " 288 289 290 291 292 293 294 295 296 297 298 299 300 301 302 303 304 305\n",
      " 306 307 308 309 310 311 312 313 314 315 316 317 318 319 320 321 322 323\n",
      " 324 325 326 327 328 329 330 331 332 333 334 335 336 337 338 339 340 341\n",
      " 342 343 344 345 346 347 348 349 350 351 352 353 354 355 356 357] [ 83  88  90  99 100 102 103 104 108 109 111 112 114 115 117 118 123 124\n",
      " 125 127 129 131 133 135 136 137 144 148 150 155 157 158 159 161 163 167]\n",
      "4 [  0   1   2   3   4   5   6   7   8   9  10  11  12  13  14  15  16  17\n",
      "  18  19  20  21  22  23  24  25  26  27  28  29  30  31  32  33  34  35\n",
      "  36  37  38  39  40  41  42  43  44  45  46  47  48  49  50  51  52  53\n",
      "  54  55  56  57  58  59  60  61  62  63  64  65  66  67  68  69  70  71\n",
      "  72  73  74  75  76  77  78  79  80  81  82  83  84  85  86  87  88  89\n",
      "  90  91  92  93  94  95  96  97  98  99 100 101 102 103 104 105 106 107\n",
      " 108 109 110 111 112 113 114 115 117 118 120 122 123 124 125 126 127 129\n",
      " 130 131 133 135 136 137 141 144 145 146 148 150 155 156 157 158 159 161\n",
      " 162 163 165 166 167 171 172 173 175 176 183 184 185 186 187 189 190 193\n",
      " 194 195 198 199 200 201 202 203 204 205 206 207 208 209 210 212 213 215\n",
      " 216 217 218 219 220 221 222 223 224 225 226 227 228 229 230 231 232 233\n",
      " 234 235 236 237 238 239 240 241 242 243 244 245 246 247 248 249 250 251\n",
      " 252 253 254 255 256 257 258 259 260 261 262 263 264 265 266 267 268 269\n",
      " 270 271 272 273 274 275 276 277 278 279 280 281 282 283 284 285 286 287\n",
      " 288 289 290 291 292 293 294 295 296 297 298 299 300 301 302 303 304 305\n",
      " 306 307 308 309 310 311 312 313 314 315 316 317 318 319 320 321 322 323\n",
      " 324 325 326 327 328 329 330 331 332 333 334 335 336 337 338 339 340 341\n",
      " 342 343 344 345 346 347 348 349 350 351 352 353 354 355 356 357] [116 119 121 128 132 134 138 139 140 142 143 147 149 151 152 153 154 160\n",
      " 164 168 169 170 174 177 178 179 180 181 182 188 191 192 196 197 211 214]\n",
      "5 [  0   1   2   3   4   5   6   7   8   9  10  11  12  13  14  15  16  17\n",
      "  18  19  20  21  22  23  24  25  26  27  28  29  30  31  32  33  34  35\n",
      "  36  37  38  39  40  41  42  43  44  45  46  47  48  49  50  51  52  53\n",
      "  54  55  56  57  58  59  60  61  62  63  64  65  66  67  68  69  70  71\n",
      "  72  73  74  75  76  77  78  79  80  81  82  83  84  85  86  87  88  89\n",
      "  90  91  92  93  94  95  96  97  98  99 100 101 102 103 104 105 106 107\n",
      " 108 109 110 111 112 113 114 115 116 117 118 119 120 121 122 123 124 125\n",
      " 126 127 128 129 130 131 132 133 134 135 136 137 138 139 140 141 142 143\n",
      " 144 145 147 148 149 150 151 152 153 154 155 157 158 159 160 161 163 164\n",
      " 167 168 169 170 174 177 178 179 180 181 182 188 189 190 191 192 195 196\n",
      " 197 199 205 207 208 209 210 211 212 214 216 217 218 219 220 224 225 226\n",
      " 227 228 229 230 231 232 233 234 238 239 242 243 245 246 247 249 250 251\n",
      " 252 253 254 255 256 257 258 259 260 261 262 263 264 265 266 267 268 269\n",
      " 270 271 272 273 274 275 276 277 278 279 280 281 282 283 284 285 286 287\n",
      " 288 289 290 291 292 293 294 295 296 297 298 299 300 301 302 303 304 305\n",
      " 306 307 308 309 310 311 312 313 314 315 316 317 318 319 320 321 322 323\n",
      " 324 325 326 327 328 329 330 331 332 333 334 335 336 337 338 339 340 341\n",
      " 342 343 344 345 346 347 348 349 350 351 352 353 354 355 356 357] [146 156 162 165 166 171 172 173 175 176 183 184 185 186 187 193 194 198\n",
      " 200 201 202 203 204 206 213 215 221 222 223 235 236 237 240 241 244 248]\n",
      "6 [  0   1   2   3   4   5   6   7   8   9  10  11  12  13  14  15  16  17\n",
      "  18  19  20  21  22  23  24  25  26  27  28  29  30  31  32  33  34  35\n",
      "  36  37  38  39  40  41  42  43  44  45  46  47  48  49  50  51  52  53\n",
      "  54  55  56  57  58  59  60  61  62  63  64  65  66  67  68  69  70  71\n",
      "  72  73  74  75  76  77  78  79  80  81  82  83  84  85  86  87  88  89\n",
      "  90  91  92  93  94  95  96  97  98  99 100 101 102 103 104 105 106 107\n",
      " 108 109 110 111 112 113 114 115 116 117 118 119 120 121 122 123 124 125\n",
      " 126 127 128 129 130 131 132 133 134 135 136 137 138 139 140 141 142 143\n",
      " 144 145 146 147 148 149 150 151 152 153 154 155 156 157 158 159 160 161\n",
      " 162 163 164 165 166 167 168 169 170 171 172 173 174 175 176 177 178 179\n",
      " 180 181 182 183 184 185 186 187 188 191 192 193 194 196 197 198 200 201\n",
      " 202 203 204 206 211 213 214 215 220 221 222 223 228 232 234 235 236 237\n",
      " 238 240 241 243 244 246 248 252 253 255 256 257 258 259 261 262 263 265\n",
      " 268 270 272 273 274 275 276 277 278 279 280 281 282 283 284 285 286 287\n",
      " 288 289 290 291 292 293 294 295 296 297 298 299 300 301 302 303 304 305\n",
      " 306 307 308 309 310 311 312 313 314 315 316 317 318 319 320 321 322 323\n",
      " 324 325 326 327 328 329 330 331 332 333 334 335 336 337 338 339 340 341\n",
      " 342 343 344 345 346 347 348 349 350 351 352 353 354 355 356 357] [189 190 195 199 205 207 208 209 210 212 216 217 218 219 224 225 226 227\n",
      " 229 230 231 233 239 242 245 247 249 250 251 254 260 264 266 267 269 271]\n",
      "7 [  0   1   2   3   4   5   6   7   8   9  10  11  12  13  14  15  16  17\n",
      "  18  19  20  21  22  23  24  25  26  27  28  29  30  31  32  33  34  35\n",
      "  36  37  38  39  40  41  42  43  44  45  46  47  48  49  50  51  52  53\n",
      "  54  55  56  57  58  59  60  61  62  63  64  65  66  67  68  69  70  71\n",
      "  72  73  74  75  76  77  78  79  80  81  82  83  84  85  86  87  88  89\n",
      "  90  91  92  93  94  95  96  97  98  99 100 101 102 103 104 105 106 107\n",
      " 108 109 110 111 112 113 114 115 116 117 118 119 120 121 122 123 124 125\n",
      " 126 127 128 129 130 131 132 133 134 135 136 137 138 139 140 141 142 143\n",
      " 144 145 146 147 148 149 150 151 152 153 154 155 156 157 158 159 160 161\n",
      " 162 163 164 165 166 167 168 169 170 171 172 173 174 175 176 177 178 179\n",
      " 180 181 182 183 184 185 186 187 188 189 190 191 192 193 194 195 196 197\n",
      " 198 199 200 201 202 203 204 205 206 207 208 209 210 211 212 213 214 215\n",
      " 216 217 218 219 221 222 223 224 225 226 227 229 230 231 233 235 236 237\n",
      " 239 240 241 242 244 245 247 248 249 250 251 254 260 264 266 267 268 269\n",
      " 271 276 277 279 285 289 292 294 295 296 297 298 299 300 301 302 303 304\n",
      " 305 306 307 308 310 311 312 313 314 315 316 317 318 319 320 321 322 323\n",
      " 324 325 326 327 328 329 330 331 332 333 334 335 336 337 338 339 340 341\n",
      " 342 343 344 345 346 347 348 349 350 351 352 353 354 355 356 357] [220 228 232 234 238 243 246 252 253 255 256 257 258 259 261 262 263 265\n",
      " 270 272 273 274 275 278 280 281 282 283 284 286 287 288 290 291 293 309]\n",
      "8 [  0   1   2   3   4   5   6   7   8   9  10  11  12  13  14  15  16  17\n",
      "  18  19  20  21  22  23  24  25  26  27  28  29  30  31  32  33  34  35\n",
      "  36  37  38  39  40  41  42  43  44  45  46  47  48  49  50  51  52  53\n",
      "  54  55  56  57  58  59  60  61  62  63  64  65  66  67  68  69  70  71\n",
      "  72  73  74  75  76  77  78  79  80  81  82  83  84  85  86  87  88  89\n",
      "  90  91  92  93  94  95  96  97  98  99 100 101 102 103 104 105 106 107\n",
      " 108 109 110 111 112 113 114 115 116 117 118 119 120 121 122 123 124 125\n",
      " 126 127 128 129 130 131 132 133 134 135 136 137 138 139 140 141 142 143\n",
      " 144 145 146 147 148 149 150 151 152 153 154 155 156 157 158 159 160 161\n",
      " 162 163 164 165 166 167 168 169 170 171 172 173 174 175 176 177 178 179\n",
      " 180 181 182 183 184 185 186 187 188 189 190 191 192 193 194 195 196 197\n",
      " 198 199 200 201 202 203 204 205 206 207 208 209 210 211 212 213 214 215\n",
      " 216 217 218 219 220 221 222 223 224 225 226 227 228 229 230 231 232 233\n",
      " 234 235 236 237 238 239 240 241 242 243 244 245 246 247 248 249 250 251\n",
      " 252 253 254 255 256 257 258 259 260 261 262 263 264 265 266 267 269 270\n",
      " 271 272 273 274 275 278 280 281 282 283 284 286 287 288 290 291 293 298\n",
      " 309 316 319 321 322 323 324 325 327 330 331 332 333 335 336 338 339 340\n",
      " 341 342 343 344 345 346 347 348 349 350 351 352 353 354 355 356 357] [268 276 277 279 285 289 292 294 295 296 297 299 300 301 302 303 304 305\n",
      " 306 307 308 310 311 312 313 314 315 317 318 320 326 328 329 334 337]\n",
      "9 [  0   1   2   3   4   5   6   7   8   9  10  11  12  13  14  15  16  17\n",
      "  18  19  20  21  22  23  24  25  26  27  28  29  30  31  32  33  34  35\n",
      "  36  37  38  39  40  41  42  43  44  45  46  47  48  49  50  51  52  53\n",
      "  54  55  56  57  58  59  60  61  62  63  64  65  66  67  68  69  70  71\n",
      "  72  73  74  75  76  77  78  79  80  81  82  83  84  85  86  87  88  89\n",
      "  90  91  92  93  94  95  96  97  98  99 100 101 102 103 104 105 106 107\n",
      " 108 109 110 111 112 113 114 115 116 117 118 119 120 121 122 123 124 125\n",
      " 126 127 128 129 130 131 132 133 134 135 136 137 138 139 140 141 142 143\n",
      " 144 145 146 147 148 149 150 151 152 153 154 155 156 157 158 159 160 161\n",
      " 162 163 164 165 166 167 168 169 170 171 172 173 174 175 176 177 178 179\n",
      " 180 181 182 183 184 185 186 187 188 189 190 191 192 193 194 195 196 197\n",
      " 198 199 200 201 202 203 204 205 206 207 208 209 210 211 212 213 214 215\n",
      " 216 217 218 219 220 221 222 223 224 225 226 227 228 229 230 231 232 233\n",
      " 234 235 236 237 238 239 240 241 242 243 244 245 246 247 248 249 250 251\n",
      " 252 253 254 255 256 257 258 259 260 261 262 263 264 265 266 267 268 269\n",
      " 270 271 272 273 274 275 276 277 278 279 280 281 282 283 284 285 286 287\n",
      " 288 289 290 291 292 293 294 295 296 297 299 300 301 302 303 304 305 306\n",
      " 307 308 309 310 311 312 313 314 315 317 318 320 326 328 329 334 337] [298 316 319 321 322 323 324 325 327 330 331 332 333 335 336 338 339 340\n",
      " 341 342 343 344 345 346 347 348 349 350 351 352 353 354 355 356 357]\n"
     ]
    }
   ],
   "source": [
    "for k, (train, test) in enumerate(kfold):\n",
    "    print(k, train, test)"
   ]
  },
  {
   "cell_type": "markdown",
   "id": "da1ba1e8",
   "metadata": {},
   "source": [
    "# MODELS GAUSSIAN KNN DESICION TREE "
   ]
  },
  {
   "cell_type": "code",
   "execution_count": 68,
   "id": "015e7e4c",
   "metadata": {},
   "outputs": [],
   "source": [
    "from sklearn.tree import DecisionTreeClassifier\n",
    "from sklearn.neighbors import KNeighborsClassifier\n",
    "from sklearn.naive_bayes import GaussianNB\n",
    "from sklearn import svm\n",
    "from sklearn.multiclass import OneVsRestClassifier\n",
    "gnb = GaussianNB().fit(X_train, y_train)\n",
    "dtree_model = DecisionTreeClassifier(max_depth = 2).fit(X_train, y_train)\n",
    "knn = KNeighborsClassifier(n_neighbors = 7).fit(X_train, y_train)\n",
    "estim2 = OneVsRestClassifier(SVC(kernel='linear', decision_function_shape='ovr'))\n",
    "svc=SVC(decision_function_shape='ovo').fit(X_train,y_train)\n",
    "clf = svm.SVC(kernel='rbf', C=10).fit(X_train, y_train)\n"
   ]
  },
  {
   "cell_type": "markdown",
   "id": "dd0a245b",
   "metadata": {},
   "source": [
    "# Predictions"
   ]
  },
  {
   "cell_type": "code",
   "execution_count": 69,
   "id": "247de124",
   "metadata": {},
   "outputs": [
    {
     "name": "stdout",
     "output_type": "stream",
     "text": [
      "0.33766233766233766 0.461038961038961 0.2987012987012987\n"
     ]
    }
   ],
   "source": [
    "#estim2.fit(X_train,y_train)\n",
    "\n",
    "dtree_predictions = dtree_model.predict(X_test)\n",
    "knn_predictions = knn.predict(X_test) \n",
    "svc_predictions=svc.predict(X_test)\n",
    "gnb_predictions = gnb.predict(X_test)\n",
    "#estim2_predictions=estim2.predict(X_test)\n",
    "\n",
    "\n",
    "accuracy = knn.score(X_test, y_test)\n",
    "accuracy2 = gnb.score(X_test, y_test)\n",
    "accuracy3 = dtree_model.score(X_test, y_test)\n",
    "\n",
    "\n",
    "print (accuracy,accuracy2,accuracy3)\n"
   ]
  },
  {
   "cell_type": "markdown",
   "id": "1dc5e9da",
   "metadata": {},
   "source": [
    "# Best Parameters"
   ]
  },
  {
   "cell_type": "code",
   "execution_count": 80,
   "id": "53e63ef3",
   "metadata": {},
   "outputs": [
    {
     "ename": "NameError",
     "evalue": "name 'estimator' is not defined",
     "output_type": "error",
     "traceback": [
      "\u001b[0;31m--------------------------------------------------------------------------\u001b[0m",
      "\u001b[0;31mNameError\u001b[0m                                Traceback (most recent call last)",
      "\u001b[0;32m<ipython-input-80-ba59637b3df9>\u001b[0m in \u001b[0;36m<module>\u001b[0;34m\u001b[0m\n\u001b[1;32m      1\u001b[0m \u001b[0;32mfrom\u001b[0m \u001b[0msklearn\u001b[0m\u001b[0;34m.\u001b[0m\u001b[0mmodel_selection\u001b[0m \u001b[0;32mimport\u001b[0m \u001b[0mGridSearchCV\u001b[0m\u001b[0;34m\u001b[0m\u001b[0;34m\u001b[0m\u001b[0m\n\u001b[0;32m----> 2\u001b[0;31m \u001b[0mestimator\u001b[0m\u001b[0;34m.\u001b[0m\u001b[0mget_params\u001b[0m\u001b[0;34m(\u001b[0m\u001b[0;34m)\u001b[0m\u001b[0;34m.\u001b[0m\u001b[0mkeys\u001b[0m\u001b[0;34m(\u001b[0m\u001b[0;34m)\u001b[0m\u001b[0;34m\u001b[0m\u001b[0;34m\u001b[0m\u001b[0m\n\u001b[0m\u001b[1;32m      3\u001b[0m param_grid = { \n\u001b[1;32m      4\u001b[0m     \u001b[0;34m'n_estimators'\u001b[0m\u001b[0;34m:\u001b[0m \u001b[0;34m[\u001b[0m\u001b[0;36m100\u001b[0m\u001b[0;34m,\u001b[0m \u001b[0;36m200\u001b[0m\u001b[0;34m]\u001b[0m\u001b[0;34m,\u001b[0m\u001b[0;34m\u001b[0m\u001b[0;34m\u001b[0m\u001b[0m\n\u001b[1;32m      5\u001b[0m     \u001b[0;34m'max_features'\u001b[0m\u001b[0;34m:\u001b[0m \u001b[0;34m[\u001b[0m\u001b[0;34m'auto'\u001b[0m\u001b[0;34m,\u001b[0m \u001b[0;34m'sqrt'\u001b[0m\u001b[0;34m,\u001b[0m \u001b[0;34m'log2'\u001b[0m\u001b[0;34m]\u001b[0m\u001b[0;34m,\u001b[0m\u001b[0;34m\u001b[0m\u001b[0;34m\u001b[0m\u001b[0m\n",
      "\u001b[0;31mNameError\u001b[0m: name 'estimator' is not defined"
     ]
    }
   ],
   "source": [
    "from sklearn.model_selection import GridSearchCV\n",
    "\n",
    "param_grid = { \n",
    "    'n_estimators': [100, 200],\n",
    "    'max_features': ['auto', 'sqrt', 'log2'],\n",
    "    'max_depth' : [4,5,6,7,8],\n",
    "    'criterion' :['gini', 'entropy']\n",
    "}\n",
    "grid_search = GridSearchCV(estimator=gnb,param_grid=param_grid,  cv= 5)\n",
    "grid_search.fit(X_train, y_train)\n",
    " "
   ]
  },
  {
   "cell_type": "code",
   "execution_count": 71,
   "id": "237053e2",
   "metadata": {},
   "outputs": [
    {
     "ename": "NameError",
     "evalue": "name 'grid_search' is not defined",
     "output_type": "error",
     "traceback": [
      "\u001b[0;31m--------------------------------------------------------------------------\u001b[0m",
      "\u001b[0;31mNameError\u001b[0m                                Traceback (most recent call last)",
      "\u001b[0;32m<ipython-input-71-ed0196f6449a>\u001b[0m in \u001b[0;36m<module>\u001b[0;34m\u001b[0m\n\u001b[0;32m----> 1\u001b[0;31m \u001b[0mprint\u001b[0m\u001b[0;34m(\u001b[0m\u001b[0;34m\"Best gamma value: \"\u001b[0m\u001b[0;34m,\u001b[0m \u001b[0mgrid_search\u001b[0m\u001b[0;34m.\u001b[0m\u001b[0mbest_params_\u001b[0m\u001b[0;34m[\u001b[0m\u001b[0;34m'gamma'\u001b[0m\u001b[0;34m]\u001b[0m\u001b[0;34m)\u001b[0m\u001b[0;34m\u001b[0m\u001b[0;34m\u001b[0m\u001b[0m\n\u001b[0m\u001b[1;32m      2\u001b[0m \u001b[0mprint\u001b[0m\u001b[0;34m(\u001b[0m\u001b[0;34m\"Best C value: \"\u001b[0m\u001b[0;34m,\u001b[0m \u001b[0mgrid_search\u001b[0m\u001b[0;34m.\u001b[0m\u001b[0mbest_params_\u001b[0m\u001b[0;34m[\u001b[0m\u001b[0;34m'C'\u001b[0m\u001b[0;34m]\u001b[0m\u001b[0;34m)\u001b[0m\u001b[0;34m\u001b[0m\u001b[0;34m\u001b[0m\u001b[0m\n\u001b[1;32m      3\u001b[0m \u001b[0my_pred\u001b[0m \u001b[0;34m=\u001b[0m \u001b[0mgrid_search\u001b[0m\u001b[0;34m.\u001b[0m\u001b[0mpredict\u001b[0m\u001b[0;34m(\u001b[0m\u001b[0mX_test\u001b[0m\u001b[0;34m)\u001b[0m\u001b[0;34m\u001b[0m\u001b[0;34m\u001b[0m\u001b[0m\n\u001b[1;32m      4\u001b[0m \u001b[0maccuracy\u001b[0m \u001b[0;34m=\u001b[0m \u001b[0maccuracy_score\u001b[0m\u001b[0;34m(\u001b[0m\u001b[0my_test\u001b[0m\u001b[0;34m,\u001b[0m \u001b[0my_pred\u001b[0m\u001b[0;34m)\u001b[0m\u001b[0;34m\u001b[0m\u001b[0;34m\u001b[0m\u001b[0m\n\u001b[1;32m      5\u001b[0m \u001b[0mprint\u001b[0m\u001b[0;34m(\u001b[0m\u001b[0;34m\"Validation accuracy: \"\u001b[0m\u001b[0;34m,\u001b[0m \u001b[0maccuracy\u001b[0m\u001b[0;34m)\u001b[0m\u001b[0;34m\u001b[0m\u001b[0;34m\u001b[0m\u001b[0m\n",
      "\u001b[0;31mNameError\u001b[0m: name 'grid_search' is not defined"
     ]
    }
   ],
   "source": [
    "print(\"Best gamma value: \", grid_search.best_params_['gamma'])\n",
    "print(\"Best C value: \", grid_search.best_params_['C'])\n",
    "y_pred = grid_search.predict(X_test)\n",
    "accuracy = accuracy_score(y_test, y_pred)\n",
    "print(\"Validation accuracy: \", accuracy)"
   ]
  },
  {
   "cell_type": "markdown",
   "id": "f727c4c9",
   "metadata": {},
   "source": [
    "# Confusion Matrixes"
   ]
  },
  {
   "cell_type": "code",
   "execution_count": 40,
   "id": "68aca1d2",
   "metadata": {},
   "outputs": [],
   "source": [
    "from sklearn.metrics import confusion_matrix\n",
    "cm = confusion_matrix(y_test, dtree_predictions)\n",
    "cm2 = confusion_matrix(y_test, knn_predictions)\n",
    "cm3= confusion_matrix(y_test, gnb_predictions)"
   ]
  },
  {
   "cell_type": "code",
   "execution_count": 41,
   "id": "5d8e652a",
   "metadata": {
    "scrolled": true
   },
   "outputs": [
    {
     "data": {
      "image/png": "[encoded data removed]",
      "text/plain": [
       "<Figure size 1080x288 with 6 Axes>"
      ]
     },
     "metadata": {
      "needs_background": "light"
     },
     "output_type": "display_data"
    }
   ],
   "source": [
    "import seaborn as sns\n",
    "import matplotlib.pyplot as plt\n",
    "from sklearn.metrics import confusion_matrix\n",
    "\n",
    "fig, axes = plt.subplots(1, 3, figsize=(15, 4))\n",
    "\n",
    "# Plot the first confusion matrix\n",
    "sns.heatmap(cm, annot=True, cmap='Blues', ax=axes[0])\n",
    "axes[0].set_xlabel('Predicted labels')\n",
    "axes[0].set_ylabel('True labels')\n",
    "axes[0].set_title('Confusion Matrix 1')\n",
    "\n",
    "# Plot the second confusion matrix\n",
    "sns.heatmap(cm2, annot=True, cmap='Blues', ax=axes[1])\n",
    "axes[1].set_xlabel('Predicted labels')\n",
    "axes[1].set_ylabel('True labels')\n",
    "axes[1].set_title('Confusion Matrix 2')\n",
    "\n",
    "# Plot the third confusion matrix\n",
    "sns.heatmap(cm3, annot=True, cmap='Blues', ax=axes[2])\n",
    "axes[2].set_xlabel('Predicted labels')\n",
    "axes[2].set_ylabel('True labels')\n",
    "axes[2].set_title('Confusion Matrix 3')\n",
    "\n",
    "# Adjust the spacing between subplots\n",
    "plt.tight_layout()\n",
    "\n",
    "# Display the plot\n",
    "plt.show()\n"
   ]
  },
  {
   "cell_type": "code",
   "execution_count": 42,
   "id": "3604d0af",
   "metadata": {},
   "outputs": [],
   "source": [
    "from sklearn import svm\n",
    "from sklearn.model_selection import cross_val_score\n",
    "clf = svm.SVC(kernel='rbf', C=100, random_state=42)\n"
   ]
  },
  {
   "cell_type": "code",
   "execution_count": 43,
   "id": "d3754088",
   "metadata": {},
   "outputs": [
    {
     "data": {
      "text/plain": [
       "array([0.36842105, 0.35087719, 0.33333333, 0.38596491, 0.38596491,\n",
       "       0.49122807, 0.45614035, 0.38596491, 0.5       ])"
      ]
     },
     "execution_count": 43,
     "metadata": {},
     "output_type": "execute_result"
    }
   ],
   "source": [
    "scores = cross_val_score(clf, X, y, cv=9)\n",
    "scores"
   ]
  },
  {
   "cell_type": "code",
   "execution_count": null,
   "id": "f243a45f",
   "metadata": {},
   "outputs": [],
   "source": []
  }
 ],
 "metadata": {
  "kernelspec": {
   "display_name": "Python 3",
   "language": "python",
   "name": "python3"
  },
  "language_info": {
   "codemirror_mode": {
    "name": "ipython",
    "version": 3
   },
   "file_extension": ".py",
   "mimetype": "text/x-python",
   "name": "python",
   "nbconvert_exporter": "python",
   "pygments_lexer": "ipython3",
   "version": "3.6.8"
  }
 },
 "nbformat": 4,
 "nbformat_minor": 5
}
